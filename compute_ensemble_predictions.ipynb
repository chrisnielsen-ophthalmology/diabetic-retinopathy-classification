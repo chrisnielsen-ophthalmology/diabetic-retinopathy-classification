{
 "cells": [
  {
   "cell_type": "markdown",
   "id": "d70f8877",
   "metadata": {},
   "source": [
    "### The purpose of this script is to combine the individual model predictions into an ensemble prediction\n"
   ]
  },
  {
   "cell_type": "code",
   "execution_count": 39,
   "id": "29dd8aa8",
   "metadata": {},
   "outputs": [],
   "source": [
    "import pandas as pd\n",
    "import numpy as np\n",
    "from sklearn.metrics import cohen_kappa_score\n",
    "\n",
    "# load evaluation data\n",
    "test_df = pd.read_csv(\"C:/Data/Kaggle EyePACS/test_public.csv\")\n",
    "labels = np.array(test_df['level'])"
   ]
  },
  {
   "cell_type": "code",
   "execution_count": null,
   "id": "1c8b2fb8",
   "metadata": {},
   "outputs": [],
   "source": []
  },
  {
   "cell_type": "markdown",
   "id": "e63adbc1",
   "metadata": {},
   "source": [
    "### Function to threshold predictions"
   ]
  },
  {
   "cell_type": "code",
   "execution_count": 32,
   "id": "75449dc2",
   "metadata": {},
   "outputs": [],
   "source": [
    "\n",
    "def threshold_predictions(preds):\n",
    "\n",
    "    predictions = preds.copy()\n",
    "            \n",
    "    # Convert MSE floats to integer predictions\n",
    "    predictions[predictions < 0.5] = 0\n",
    "    predictions[(predictions >= 0.5) & (predictions < 1.5)] = 1\n",
    "    predictions[(predictions >= 1.5) & (predictions < 2.5)] = 2\n",
    "    predictions[(predictions >= 2.5) & (predictions < 3.5)] = 3\n",
    "    predictions[(predictions >= 3.5) & (predictions < 10000000)] = 4\n",
    "    predictions = predictions.astype(int)\n",
    "   \n",
    "            \n",
    "    return predictions"
   ]
  },
  {
   "cell_type": "code",
   "execution_count": null,
   "id": "6fa44049",
   "metadata": {},
   "outputs": [],
   "source": []
  },
  {
   "cell_type": "code",
   "execution_count": null,
   "id": "b9ef182a",
   "metadata": {},
   "outputs": [],
   "source": []
  },
  {
   "cell_type": "markdown",
   "id": "ed28fb10",
   "metadata": {},
   "source": [
    "### Compute the ensemble predictions using/not using TTA"
   ]
  },
  {
   "cell_type": "code",
   "execution_count": 42,
   "id": "72855a84",
   "metadata": {},
   "outputs": [
    {
     "name": "stdout",
     "output_type": "stream",
     "text": [
      "QuadraticWeightedKappa TTA: False: 0.812463152736897\n",
      "QuadraticWeightedKappa TTA: True: 0.8141355353993828\n"
     ]
    }
   ],
   "source": [
    "for tta in [False, True]:\n",
    "    pred_values = None\n",
    "    total_models = 0\n",
    "    for model_type in ['b3', 'b4', 'b5']:\n",
    "        for ensemble_iter in ['0', '1']:\n",
    "            total_models += 1\n",
    "            \n",
    "            output_file_path = model_type + '_' + str(ensemble_iter)\n",
    "            if tta == True:\n",
    "                data_path = 'predictions/' + output_file_path + '_tta.csv'\n",
    "            else:\n",
    "                data_path = 'predictions/' + output_file_path + '.csv'\n",
    "                \n",
    "                \n",
    "            pred_df = pd.read_csv(data_path)\n",
    "            \n",
    "            if pred_values is None:\n",
    "                pred_values = np.array(pred_df['level'])\n",
    "            else:\n",
    "                pred_values += np.array(pred_df['level'])\n",
    "                \n",
    "    pred_values/=total_models\n",
    "    preds = threshold_predictions(pred_values)\n",
    "    \n",
    "    print(f\"QuadraticWeightedKappa TTA: {tta}: {cohen_kappa_score(labels, preds, weights='quadratic')}\")\n",
    "\n",
    "        \n",
    "    "
   ]
  },
  {
   "cell_type": "code",
   "execution_count": null,
   "id": "b72c1bab",
   "metadata": {},
   "outputs": [],
   "source": []
  }
 ],
 "metadata": {
  "kernelspec": {
   "display_name": "Python 3 (ipykernel)",
   "language": "python",
   "name": "python3"
  },
  "language_info": {
   "codemirror_mode": {
    "name": "ipython",
    "version": 3
   },
   "file_extension": ".py",
   "mimetype": "text/x-python",
   "name": "python",
   "nbconvert_exporter": "python",
   "pygments_lexer": "ipython3",
   "version": "3.9.7"
  }
 },
 "nbformat": 4,
 "nbformat_minor": 5
}
